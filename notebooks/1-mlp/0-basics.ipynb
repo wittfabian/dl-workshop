{
 "cells": [
  {
   "cell_type": "markdown",
   "metadata": {},
   "source": [
    "## Introduction to Neural Networks"
   ]
  },
  {
   "cell_type": "markdown",
   "metadata": {},
   "source": [
    "* The basic unit of computation in a neural network is the neuron (called a node or unit)\n",
    "* The neuron receives input (`x`) from some other nodes, or from an external source and computes an output\n",
    "* Each input has an associated weight (`w`), which is assigned on the basis of its relative importance to other inputs\n",
    "* The node applies a function (`f`) to the weighted sum of its inputs."
   ]
  },
  {
   "cell_type": "markdown",
   "metadata": {},
   "source": [
    "![Basic Neural Network Cell](../images/nn-cell.jpeg)"
   ]
  },
  {
   "cell_type": "markdown",
   "metadata": {},
   "source": [
    "### The idea\n",
    "\n",
    "* Synaptic strengths (the weights w) are learnable and control the strength of influence and its direction\n",
    "* Excitatory (positive weight) or inhibitory (negative weight)\n",
    "* The dendrites carry the signal to the cell body where they all get summed.\n",
    "* If the final sum is above a certain threshold, the neuron can fire, sending a spike along its axon.\n",
    "* The firing rate of the neuron is modeled with an activation function (e.x sigmoid function)"
   ]
  },
  {
   "cell_type": "markdown",
   "metadata": {},
   "source": [
    "### Neural Network Architecture\n",
    "\n",
    "**Input Nodes (input layer)**:\n",
    "* No computation is done here\n",
    "* Just pass the information to the next layer\n",
    "\n",
    "**Hidden nodes (hidden layer)**:\n",
    "* Here the intermediate processing or computation is done\n",
    "* They perform computations and then transfer the weights (signals or information)\n",
    "* It is possible to have a neural network without a hidden layer\n",
    "\n",
    "**Output Nodes (output layer)**:\n",
    "* Here we finally use an activation function that maps to the desired output format \n",
    "* e.g. softmax for multi-class classification\n",
    "\n",
    "**Connections and weights**:\n",
    "* The network consists of connections\n",
    "* Each connection transferring the output of a neuron i to the input of a neuron j\n",
    "* In this sense i is the predecessor of j and j is the successor of i, Each connection is assigned a weight Wij.\n",
    "\n",
    "**Activation function**:\n",
    "* The activation function of a node defines the output of that node\n",
    "\n",
    "**Learning rule**:\n",
    "* The learning rule is a rule or an algorithm which modifies the parameters of the neural network\n",
    "* Changes the weights that a particular input produces a particular output"
   ]
  },
  {
   "cell_type": "markdown",
   "metadata": {},
   "source": [
    "### Types of Neural Networks\n",
    "\n",
    "**Feedforward Neural Network**\n",
    "* Connections between the units do not form a cycle\n",
    "* The information moves in only one direction\n",
    "\n",
    "**Single-layer Perceptron**\n",
    "* This is the simplest feedforward neural network\n",
    "* It does not contain any hidden layer\n",
    "* It only consists of a single layer of output nodes\n",
    "* \"single\" because when we count the layers we do not include the input layer\n",
    "* The inputs are fed directly to the outputs via a series of weights\n",
    "\n",
    "![Single-layer Perceptron](../images/single-layer-perceptron.gif)\n",
    "\n",
    "\n",
    "**Multi-layer perceptron (MLP)**\n",
    "* Networks that consists of multiple layers of computational units (usually interconnected in a feed-forward way)\n",
    "* Each neuron in one layer has directed connections to the neurons of the subsequent layer\n",
    "* They are able to learn non-linear representations\n",
    "\n",
    "![Single-layer Perceptron](../images/multi-layer-perceptron.jpeg)"
   ]
  },
  {
   "cell_type": "markdown",
   "metadata": {},
   "source": [
    "Source: [A Gentle Introduction To Neural Networks Series](https://towardsdatascience.com/a-gentle-introduction-to-neural-networks-series-part-1-2b90b87795bc)"
   ]
  }
 ],
 "metadata": {
  "kernelspec": {
   "display_name": "Python 3",
   "language": "python",
   "name": "python3"
  },
  "language_info": {
   "codemirror_mode": {
    "name": "ipython",
    "version": 3
   },
   "file_extension": ".py",
   "mimetype": "text/x-python",
   "name": "python",
   "nbconvert_exporter": "python",
   "pygments_lexer": "ipython3",
   "version": "3.5.4"
  }
 },
 "nbformat": 4,
 "nbformat_minor": 2
}
