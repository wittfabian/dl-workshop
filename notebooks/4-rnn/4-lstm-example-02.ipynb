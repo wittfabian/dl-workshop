{
 "cells": [
  {
   "cell_type": "markdown",
   "metadata": {},
   "source": [
    "# Stock price prediction with an RNN"
   ]
  },
  {
   "cell_type": "markdown",
   "metadata": {},
   "source": [
    "This example and the used images are based on [Lilian Weng's blog post](https://lilianweng.github.io/lil-log/2017/07/08/predict-stock-prices-using-RNN-part-1.html)."
   ]
  },
  {
   "cell_type": "markdown",
   "metadata": {},
   "source": [
    "## Imports\n",
    "\n",
    "Import all necessary packages."
   ]
  },
  {
   "cell_type": "code",
   "execution_count": null,
   "metadata": {},
   "outputs": [],
   "source": [
    "import numpy as np\n",
    "import matplotlib.pyplot as plt\n",
    "import pandas as pd\n",
    "from sklearn.preprocessing import MinMaxScaler\n",
    "\n",
    "from keras.models import Sequential\n",
    "from keras.layers import Dense\n",
    "from keras.layers import LSTM\n",
    "from keras.layers import Dropout\n",
    "\n",
    "from livelossplot import PlotLossesKeras"
   ]
  },
  {
   "cell_type": "markdown",
   "metadata": {},
   "source": [
    "## Load and inspect dataset\n",
    "\n",
    "Choose one of the datasets:\n",
    "* Apple Stock Price\n",
    "* Bitcoin Stock Price\n",
    "\n",
    "(from https://finance.yahoo.com/)"
   ]
  },
  {
   "cell_type": "code",
   "execution_count": null,
   "metadata": {},
   "outputs": [],
   "source": [
    "# Apple\n",
    "data_file = \"../datasets/aapl-usd.csv\"\n",
    "\n",
    "# Bitcoin\n",
    "#data_file = \"../datasets/btc-usd.csv\""
   ]
  },
  {
   "cell_type": "code",
   "execution_count": null,
   "metadata": {},
   "outputs": [],
   "source": [
    "df = pd.read_csv(data_file)\n",
    "df.head()"
   ]
  },
  {
   "cell_type": "markdown",
   "metadata": {},
   "source": [
    "To train our model, we just use the Open column."
   ]
  },
  {
   "cell_type": "code",
   "execution_count": null,
   "metadata": {},
   "outputs": [],
   "source": [
    "data = df.iloc[:, 1:2].values\n",
    "pd.DataFrame(data).plot()"
   ]
  },
  {
   "cell_type": "markdown",
   "metadata": {},
   "source": [
    "## Preprocessing"
   ]
  },
  {
   "cell_type": "markdown",
   "metadata": {},
   "source": [
    "We need to generate the training and test data sequences out of our orininal stock price time series. We are doing this by the usage of sliding windows with the size *input size* as a training instance and the subsequent window (with the same size) as labels. Therefore, we are constructing a *many-to-many* RNN. This window slides now over the time series, generating instances with their corresponding labels."
   ]
  },
  {
   "cell_type": "markdown",
   "metadata": {},
   "source": [
    "<img src=\"../images/sliding_window_time_series.svg\" alt=\"Drawing\" style=\"width: 600px;\"/>"
   ]
  },
  {
   "cell_type": "markdown",
   "metadata": {},
   "source": [
    "Additionally, due to increasing or decreasing stock prices values might drift out of scale. To fix that problem and to allow the network to perform reasonably, a normalization needs to be done."
   ]
  },
  {
   "cell_type": "code",
   "execution_count": null,
   "metadata": {},
   "outputs": [],
   "source": [
    "input_size = 30 # size of the sliding window\n",
    "num_steps = 2 # number of preceding sliding windows used for prediction of the label window\n",
    "\n",
    "seq = [np.array(data[i * input_size: (i + 1) * input_size]) \n",
    "       for i in range(len(data) // input_size)]\n",
    "\n",
    "# normalize\n",
    "seq = [seq[0] / seq[0][0] - 1.0] + [curr / seq[i][-1] - 1.0 for i, curr in enumerate(seq[1:])]\n",
    "\n",
    "# Split into groups of num_steps\n",
    "X = np.array([seq[i: i + num_steps] for i in range(len(seq) - num_steps)])\n",
    "y = np.array([seq[i + num_steps] for i in range(len(seq) - num_steps)])"
   ]
  },
  {
   "cell_type": "code",
   "execution_count": null,
   "metadata": {},
   "outputs": [],
   "source": [
    "# use the last window as test set\n",
    "train_X, test_X = X[:-1], X[-1:]\n",
    "train_y, test_y = y[:-1], y[-1:]\n",
    "\n",
    "# reshaping data for keras\n",
    "train_X = np.reshape(train_X, (train_X.shape[0], train_X.shape[2], train_X.shape[1]))\n",
    "test_X = np.reshape(test_X, (test_X.shape[0], test_X.shape[2], test_X.shape[1]))\n",
    "\n",
    "train_y = np.reshape(train_y, (train_y.shape[0], train_y.shape[1]))\n",
    "test_y = np.reshape(test_y, (test_y.shape[1]))"
   ]
  },
  {
   "cell_type": "markdown",
   "metadata": {},
   "source": [
    "## Build and Train the Network"
   ]
  },
  {
   "cell_type": "code",
   "execution_count": null,
   "metadata": {},
   "outputs": [],
   "source": [
    "# defining the model\n",
    "model = Sequential()\n",
    "\n",
    "# adding LSTM layers\n",
    "# input shape: number of time steps, number of features\n",
    "model.add(LSTM(units = 64, return_sequences=True, input_shape=(train_X.shape[1], train_X.shape[2])))\n",
    "model.add(Dropout(rate=0.2))\n",
    "\n",
    "model.add(LSTM(units = 64, return_sequences=True))\n",
    "model.add(Dropout(rate=0.2))\n",
    "\n",
    "model.add(LSTM(units = 64, return_sequences=True))\n",
    "model.add(Dropout(rate=0.2))\n",
    "\n",
    "model.add(LSTM(units = 64))\n",
    "model.add(Dropout(rate=0.2))\n",
    "\n",
    "# adding the output layer\n",
    "model.add(Dense(units=input_size))\n",
    "\n",
    "# compiling, MSE as loss, since this is a regression problem\n",
    "model.compile(optimizer='adam', loss='mean_squared_error')"
   ]
  },
  {
   "cell_type": "code",
   "execution_count": null,
   "metadata": {},
   "outputs": [],
   "source": [
    "model.fit(train_X, train_y, epochs=100, batch_size=16, callbacks=[PlotLossesKeras()])"
   ]
  },
  {
   "cell_type": "markdown",
   "metadata": {},
   "source": [
    "## Make Predictions and Visualize Results"
   ]
  },
  {
   "cell_type": "code",
   "execution_count": null,
   "metadata": {},
   "outputs": [],
   "source": [
    "# predict the stock price\n",
    "predicted_y = model.predict(test_X).reshape(-1)"
   ]
  },
  {
   "cell_type": "code",
   "execution_count": null,
   "metadata": {},
   "outputs": [],
   "source": [
    "# prepare a linear regression to compare the price tendencies\n",
    "x = list(range(input_size))\n",
    "\n",
    "fit_test_y = np.polyfit(x,test_y,1)\n",
    "fit_fn_test_y = np.poly1d(fit_test_y)\n",
    "\n",
    "fit_predicted_y = np.polyfit(x,predicted_y,1)\n",
    "fit_fn_predicted_y = np.poly1d(fit_predicted_y)\n",
    "\n",
    "# plot the real and predicted price\n",
    "plt.figure()\n",
    "\n",
    "plt.plot(x, test_y, color='green', label='Real')\n",
    "plt.plot(x, fit_fn_test_y(x), '--k', color='green', label='Real (lin. reg.)')\n",
    "\n",
    "plt.plot(x, predicted_y, color='red', label='Predicted')\n",
    "plt.plot(x, fit_fn_predicted_y(x), '--k', color='red', label='Predicted (lin. reg.)')\n",
    "\n",
    "plt.title('Stock Price')\n",
    "plt.xlabel('Time')\n",
    "plt.ylabel('Price')\n",
    "plt.legend()\n",
    "plt.show()"
   ]
  }
 ],
 "metadata": {
  "kernelspec": {
   "display_name": "Python 3",
   "language": "python",
   "name": "python3"
  },
  "language_info": {
   "codemirror_mode": {
    "name": "ipython",
    "version": 3
   },
   "file_extension": ".py",
   "mimetype": "text/x-python",
   "name": "python",
   "nbconvert_exporter": "python",
   "pygments_lexer": "ipython3",
   "version": "3.6.3"
  }
 },
 "nbformat": 4,
 "nbformat_minor": 2
}
