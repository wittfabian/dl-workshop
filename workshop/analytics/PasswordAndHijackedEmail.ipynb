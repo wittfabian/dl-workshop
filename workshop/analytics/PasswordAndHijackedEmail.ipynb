{
 "cells": [
  {
   "cell_type": "markdown",
   "metadata": {},
   "source": [
    "# Password and hijacked email\n",
    "\n",
    "\n",
    "### This project was proposed by [Vincent Granville](http://www.datasciencecentral.com/forum/topics/password-dataset-for-you-to-test-your-data-science-skills) to challenge your data science skills. Basically one should try to answer the following three questions:\n",
    "\n",
    "- What are the most common patterns found in passwords?\n",
    "- Based on these patterns, how to build robust yet easy-to-remember passwords?\n",
    "- Does this password data set look OK, or do you think it is somewhat inaccurate or not representative of the password universe? If not, can we still draw valid conclusions from this data set, and how?\n",
    "\n",
    "Data is available [here](http://www.dazzlepod.com/site_media/txt/passwords.txt)"
   ]
  },
  {
   "cell_type": "markdown",
   "metadata": {},
   "source": [
    "## Step 1. Load Packages"
   ]
  },
  {
   "cell_type": "code",
   "execution_count": 1,
   "metadata": {},
   "outputs": [],
   "source": [
    "import pandas as pd\n",
    "import numpy as np\n",
    "from pandas import Series, DataFrame\n",
    "import matplotlib.pyplot as plt\n",
    "import seaborn as sns\n",
    "%matplotlib inline"
   ]
  },
  {
   "cell_type": "markdown",
   "metadata": {},
   "source": [
    "# Step 2. Load Data"
   ]
  },
  {
   "cell_type": "code",
   "execution_count": 2,
   "metadata": {},
   "outputs": [
    {
     "name": "stdout",
     "output_type": "stream",
     "text": [
      "Status: 200\n"
     ]
    }
   ],
   "source": [
    "import requests\n",
    "\n",
    "url= 'http://www.dazzlepod.com/site_media/txt/passwords.txt'\n",
    "response = requests.get(url, stream=True)\n",
    "print('Status: ' + str(response.status_code))"
   ]
  },
  {
   "cell_type": "code",
   "execution_count": 3,
   "metadata": {},
   "outputs": [],
   "source": [
    "# save into file in case lost the connection \n",
    "with open('passwords.txt', 'wb') as fd:\n",
    "    for chunk in response.iter_content(chunk_size=128):\n",
    "        fd.write(chunk)"
   ]
  },
  {
   "cell_type": "code",
   "execution_count": 4,
   "metadata": {},
   "outputs": [
    {
     "name": "stdout",
     "output_type": "stream",
     "text": [
      "#\n",
      "\n",
      "# This is a list of 2,150,822 unique ASCII passwords in sorted order according\n",
      "\n",
      "# to their native byte values using UNIX sort command.\n",
      "\n",
      "#\n",
      "\n",
      "# This list (also known as wordlist, password dictionary or password list)\n",
      "\n",
      "# is useful for password recovery tools such as John the Ripper, hashcat and\n",
      "\n",
      "# Aircrack-ng. To use this file, be sure to first remove these comment lines,\n",
      "\n",
      "# i.e. the lines starting with # character.\n",
      "\n",
      "#\n",
      "\n",
      "# If you are looking for a better password dictionary,\n",
      "\n",
      "# see https://dazzlepod.com/uniqpass/\n",
      "\n",
      "#\n",
      "\n",
      "# $DateTime: 2016/12/18 09:10:18 $\n",
      "\n",
      "#\n",
      "\n",
      "# Comments/Questions? Send to disclosure@dazzlepod.com\n",
      "\n",
      "#\n",
      "\n",
      "`\n",
      "\n",
      "``\n",
      "\n",
      "````\n",
      "\n",
      "`````\n",
      "\n"
     ]
    }
   ],
   "source": [
    "# open the file and check the first 20 lines\n",
    "fh = open('passwords.txt', 'r+')\n",
    "for line in fh.readlines()[:20]:\n",
    "    print(line)"
   ]
  },
  {
   "cell_type": "code",
   "execution_count": 5,
   "metadata": {},
   "outputs": [],
   "source": [
    "# NOTE, read_csv and read_table do not work\n",
    "fh = open('passwords.txt', 'r+')\n",
    "ps = []\n",
    "for line in fh.readlines()[16:]:\n",
    "    ps.append(line.strip())"
   ]
  },
  {
   "cell_type": "code",
   "execution_count": 6,
   "metadata": {},
   "outputs": [
    {
     "name": "stdout",
     "output_type": "stream",
     "text": [
      "2150822\n"
     ]
    }
   ],
   "source": [
    "print(len(ps))"
   ]
  },
  {
   "cell_type": "code",
   "execution_count": 7,
   "metadata": {},
   "outputs": [],
   "source": [
    "ps = pd.Series(ps)"
   ]
  },
  {
   "cell_type": "code",
   "execution_count": 8,
   "metadata": {},
   "outputs": [],
   "source": [
    "# to get help pd.read_csv?\n",
    "passwords = pd.DataFrame(ps, columns=['password'])"
   ]
  },
  {
   "cell_type": "markdown",
   "metadata": {},
   "source": [
    "# Step 3. Explore the Data"
   ]
  },
  {
   "cell_type": "code",
   "execution_count": 9,
   "metadata": {},
   "outputs": [
    {
     "data": {
      "text/html": [
       "<div>\n",
       "<style>\n",
       "    .dataframe thead tr:only-child th {\n",
       "        text-align: right;\n",
       "    }\n",
       "\n",
       "    .dataframe thead th {\n",
       "        text-align: left;\n",
       "    }\n",
       "\n",
       "    .dataframe tbody tr th {\n",
       "        vertical-align: top;\n",
       "    }\n",
       "</style>\n",
       "<table border=\"1\" class=\"dataframe\">\n",
       "  <thead>\n",
       "    <tr style=\"text-align: right;\">\n",
       "      <th></th>\n",
       "      <th>password</th>\n",
       "    </tr>\n",
       "  </thead>\n",
       "  <tbody>\n",
       "    <tr>\n",
       "      <th>0</th>\n",
       "      <td>`</td>\n",
       "    </tr>\n",
       "    <tr>\n",
       "      <th>1</th>\n",
       "      <td>``</td>\n",
       "    </tr>\n",
       "    <tr>\n",
       "      <th>2</th>\n",
       "      <td>````</td>\n",
       "    </tr>\n",
       "    <tr>\n",
       "      <th>3</th>\n",
       "      <td>`````</td>\n",
       "    </tr>\n",
       "    <tr>\n",
       "      <th>4</th>\n",
       "      <td>``````</td>\n",
       "    </tr>\n",
       "  </tbody>\n",
       "</table>\n",
       "</div>"
      ],
      "text/plain": [
       "  password\n",
       "0        `\n",
       "1       ``\n",
       "2     ````\n",
       "3    `````\n",
       "4   ``````"
      ]
     },
     "execution_count": 9,
     "metadata": {},
     "output_type": "execute_result"
    }
   ],
   "source": [
    "passwords.head(5)"
   ]
  },
  {
   "cell_type": "code",
   "execution_count": 10,
   "metadata": {},
   "outputs": [
    {
     "data": {
      "text/html": [
       "<div>\n",
       "<style>\n",
       "    .dataframe thead tr:only-child th {\n",
       "        text-align: right;\n",
       "    }\n",
       "\n",
       "    .dataframe thead th {\n",
       "        text-align: left;\n",
       "    }\n",
       "\n",
       "    .dataframe tbody tr th {\n",
       "        vertical-align: top;\n",
       "    }\n",
       "</style>\n",
       "<table border=\"1\" class=\"dataframe\">\n",
       "  <thead>\n",
       "    <tr style=\"text-align: right;\">\n",
       "      <th></th>\n",
       "      <th>password</th>\n",
       "    </tr>\n",
       "  </thead>\n",
       "  <tbody>\n",
       "    <tr>\n",
       "      <th>2150817</th>\n",
       "      <td>zzzzzzzzzzzz</td>\n",
       "    </tr>\n",
       "    <tr>\n",
       "      <th>2150818</th>\n",
       "      <td>zzzzzzzzzzzzz</td>\n",
       "    </tr>\n",
       "    <tr>\n",
       "      <th>2150819</th>\n",
       "      <td>zzzzzzzzzzzzzz</td>\n",
       "    </tr>\n",
       "    <tr>\n",
       "      <th>2150820</th>\n",
       "      <td>zzzzzzzzzzzzzzzzzzzz</td>\n",
       "    </tr>\n",
       "    <tr>\n",
       "      <th>2150821</th>\n",
       "      <td>ZZZZZZZZZZZZZZZZZZZZ</td>\n",
       "    </tr>\n",
       "  </tbody>\n",
       "</table>\n",
       "</div>"
      ],
      "text/plain": [
       "                     password\n",
       "2150817          zzzzzzzzzzzz\n",
       "2150818         zzzzzzzzzzzzz\n",
       "2150819        zzzzzzzzzzzzzz\n",
       "2150820  zzzzzzzzzzzzzzzzzzzz\n",
       "2150821  ZZZZZZZZZZZZZZZZZZZZ"
      ]
     },
     "execution_count": 10,
     "metadata": {},
     "output_type": "execute_result"
    }
   ],
   "source": [
    "passwords.tail(5)"
   ]
  },
  {
   "cell_type": "code",
   "execution_count": 11,
   "metadata": {},
   "outputs": [
    {
     "data": {
      "text/plain": [
       "(2150822, 1)"
      ]
     },
     "execution_count": 11,
     "metadata": {},
     "output_type": "execute_result"
    }
   ],
   "source": [
    "passwords.shape"
   ]
  },
  {
   "cell_type": "code",
   "execution_count": 12,
   "metadata": {},
   "outputs": [
    {
     "data": {
      "text/plain": [
       "(2150822,)"
      ]
     },
     "execution_count": 12,
     "metadata": {},
     "output_type": "execute_result"
    }
   ],
   "source": [
    "# check how many unique passwords\n",
    "uniq_passwords = passwords.password.unique()\n",
    "uniq_passwords.shape"
   ]
  },
  {
   "cell_type": "markdown",
   "metadata": {},
   "source": [
    "### **NOTE**: From the above briefly exploration, I know that I have successfully loaded the data. The total number of records is 2,151,220 which is exactly the number as described. There are 2,150,822 unique records, suggesting only a small subset of passwords has duplication."
   ]
  },
  {
   "cell_type": "markdown",
   "metadata": {},
   "source": [
    "## Step 4. Data Preprocess\n",
    "\n",
    "To gain more inside about the passwords, I star toprepocess the password. To facilitate the preprocessing, I have created a few helper functions to check if the password contains letters, capital letters, numbers as well as symbols."
   ]
  },
  {
   "cell_type": "code",
   "execution_count": 13,
   "metadata": {},
   "outputs": [],
   "source": [
    "# define some helper functions\n",
    "\n",
    "import re\n",
    "def hasLetters(x):\n",
    "    return any(re.match('[a-zA-Z]', char) for char in str(x))\n",
    "\n",
    "def hasCapLetters(x):\n",
    "    return any(re.match('[A-Z]', char) for char in str(x))\n",
    "\n",
    "def hasNumbers(x):\n",
    "    return any(char.isdigit() for char in str(x)) \n",
    "\n",
    "def hasSymbols(x):\n",
    "    sym = set('~!@#$%^&*(){}:.[]`;,\"=<>\\\\/_ ?+-|\\'')\n",
    "    return any((c in sym) for c in str(x))"
   ]
  },
  {
   "cell_type": "markdown",
   "metadata": {},
   "source": [
    "Add five columns (hasLetters, hasCapLetters, HasNumbers, hasSymbols, length) into the existing dataframe. As you will find out, the datatype of the first four columns is boolean and the data type of length is integer."
   ]
  },
  {
   "cell_type": "code",
   "execution_count": 14,
   "metadata": {},
   "outputs": [],
   "source": [
    "# add more columns\n",
    "\n",
    "passwords['hasLetters'] = passwords.password.map(lambda x: hasLetters(x))\n",
    "passwords['hasCapLetters'] = passwords.password.map(lambda x: hasCapLetters(x))\n",
    "passwords['hasNumbers'] = passwords.password.map(lambda x: hasNumbers(x))\n",
    "passwords['hasSymbols'] = passwords.password.map(lambda x: hasSymbols(x))\n",
    "passwords['length'] = passwords.password.map(lambda x: len(str(x)))"
   ]
  },
  {
   "cell_type": "code",
   "execution_count": 15,
   "metadata": {},
   "outputs": [
    {
     "data": {
      "text/html": [
       "<div>\n",
       "<style>\n",
       "    .dataframe thead tr:only-child th {\n",
       "        text-align: right;\n",
       "    }\n",
       "\n",
       "    .dataframe thead th {\n",
       "        text-align: left;\n",
       "    }\n",
       "\n",
       "    .dataframe tbody tr th {\n",
       "        vertical-align: top;\n",
       "    }\n",
       "</style>\n",
       "<table border=\"1\" class=\"dataframe\">\n",
       "  <thead>\n",
       "    <tr style=\"text-align: right;\">\n",
       "      <th></th>\n",
       "      <th>password</th>\n",
       "      <th>hasLetters</th>\n",
       "      <th>hasCapLetters</th>\n",
       "      <th>hasNumbers</th>\n",
       "      <th>hasSymbols</th>\n",
       "      <th>length</th>\n",
       "    </tr>\n",
       "  </thead>\n",
       "  <tbody>\n",
       "    <tr>\n",
       "      <th>0</th>\n",
       "      <td>`</td>\n",
       "      <td>False</td>\n",
       "      <td>False</td>\n",
       "      <td>False</td>\n",
       "      <td>True</td>\n",
       "      <td>1</td>\n",
       "    </tr>\n",
       "    <tr>\n",
       "      <th>1</th>\n",
       "      <td>``</td>\n",
       "      <td>False</td>\n",
       "      <td>False</td>\n",
       "      <td>False</td>\n",
       "      <td>True</td>\n",
       "      <td>2</td>\n",
       "    </tr>\n",
       "    <tr>\n",
       "      <th>2</th>\n",
       "      <td>````</td>\n",
       "      <td>False</td>\n",
       "      <td>False</td>\n",
       "      <td>False</td>\n",
       "      <td>True</td>\n",
       "      <td>4</td>\n",
       "    </tr>\n",
       "    <tr>\n",
       "      <th>3</th>\n",
       "      <td>`````</td>\n",
       "      <td>False</td>\n",
       "      <td>False</td>\n",
       "      <td>False</td>\n",
       "      <td>True</td>\n",
       "      <td>5</td>\n",
       "    </tr>\n",
       "    <tr>\n",
       "      <th>4</th>\n",
       "      <td>``````</td>\n",
       "      <td>False</td>\n",
       "      <td>False</td>\n",
       "      <td>False</td>\n",
       "      <td>True</td>\n",
       "      <td>6</td>\n",
       "    </tr>\n",
       "  </tbody>\n",
       "</table>\n",
       "</div>"
      ],
      "text/plain": [
       "  password  hasLetters  hasCapLetters  hasNumbers  hasSymbols  length\n",
       "0        `       False          False       False        True       1\n",
       "1       ``       False          False       False        True       2\n",
       "2     ````       False          False       False        True       4\n",
       "3    `````       False          False       False        True       5\n",
       "4   ``````       False          False       False        True       6"
      ]
     },
     "execution_count": 15,
     "metadata": {},
     "output_type": "execute_result"
    }
   ],
   "source": [
    "# check how the data look now\n",
    "\n",
    "passwords.head(5)"
   ]
  },
  {
   "cell_type": "markdown",
   "metadata": {},
   "source": [
    "# Step 5. Analyze the Data\n",
    "\n",
    "## 5.1. Analysis of the password length "
   ]
  },
  {
   "cell_type": "code",
   "execution_count": 16,
   "metadata": {},
   "outputs": [
    {
     "name": "stdout",
     "output_type": "stream",
     "text": [
      "The minimal password length is: 1\n"
     ]
    }
   ],
   "source": [
    "# check minimal length\n",
    "\n",
    "print(\"The minimal password length is: {}\".format(passwords['length'].min()))"
   ]
  },
  {
   "cell_type": "code",
   "execution_count": 17,
   "metadata": {},
   "outputs": [
    {
     "name": "stdout",
     "output_type": "stream",
     "text": [
      "The maximal password length is: 29\n"
     ]
    }
   ],
   "source": [
    "# check maximal length\n",
    "\n",
    "print(\"The maximal password length is: {}\".format(passwords['length'].max()))"
   ]
  },
  {
   "cell_type": "code",
   "execution_count": 18,
   "metadata": {},
   "outputs": [
    {
     "name": "stdout",
     "output_type": "stream",
     "text": [
      "The average length of password is: 8.37277654775709\n",
      "The standard deviation of average password length is: 1.9954517621034746\n"
     ]
    }
   ],
   "source": [
    "# check the average length of password\n",
    "\n",
    "print(\"The average length of password is: {}\".format(passwords['length'].mean()))\n",
    "print(\"The standard deviation of average password length is: {}\".format(passwords['length'].std()))"
   ]
  },
  {
   "cell_type": "code",
   "execution_count": 19,
   "metadata": {},
   "outputs": [
    {
     "data": {
      "image/png": "[encoded data removed]",
      "text/plain": [
       "<matplotlib.figure.Figure at 0x2bfa4415ac8>"
      ]
     },
     "metadata": {},
     "output_type": "display_data"
    }
   ],
   "source": [
    "# check the central tendency \n",
    "\n",
    "sns.boxplot(passwords.length)\n",
    "plt.show()"
   ]
  },
  {
   "cell_type": "code",
   "execution_count": 20,
   "metadata": {},
   "outputs": [
    {
     "data": {
      "image/png": "[encoded data removed]",
      "text/plain": [
       "<matplotlib.figure.Figure at 0x2bfac68cb38>"
      ]
     },
     "metadata": {},
     "output_type": "display_data"
    }
   ],
   "source": [
    "# check the length distribution\n",
    "\n",
    "fig = plt.figure(figsize=(12,5)) \n",
    "plt.hist(passwords.length, bins=29)\n",
    "\n",
    "plt.ylabel('Frequency', fontsize = 14)\n",
    "plt.xlabel('Length', fontsize=14)\n",
    "\n",
    "plt.show()"
   ]
  },
  {
   "cell_type": "markdown",
   "metadata": {},
   "source": [
    "**NOTE**: After analyzing the password length, I know that the average length is about 8. The majority of passwords have length from 6 to 10. "
   ]
  },
  {
   "cell_type": "markdown",
   "metadata": {},
   "source": [
    "## 5.2. Analysis the basic composition of passwords"
   ]
  },
  {
   "cell_type": "code",
   "execution_count": 21,
   "metadata": {},
   "outputs": [
    {
     "name": "stdout",
     "output_type": "stream",
     "text": [
      "The percentage of password has number is: 72.83%\n"
     ]
    }
   ],
   "source": [
    "# check what percent password has number\n",
    "\n",
    "total_rec = passwords.shape[0]\n",
    "pct_number = passwords[passwords['hasNumbers']==True].shape[0] / float(total_rec) * 100\n",
    "print(\"The percentage of password has number is: {:.2f}%\".format(pct_number))"
   ]
  },
  {
   "cell_type": "code",
   "execution_count": 22,
   "metadata": {},
   "outputs": [
    {
     "name": "stdout",
     "output_type": "stream",
     "text": [
      "The percentage of password has letter is: 76.44%\n"
     ]
    }
   ],
   "source": [
    "# check what percent password has letter\n",
    "\n",
    "pct_letter = passwords[passwords['hasLetters']==True].shape[0] / float(total_rec) * 100\n",
    "print(\"The percentage of password has letter is: {:.2f}%\".format(pct_letter))"
   ]
  },
  {
   "cell_type": "code",
   "execution_count": 23,
   "metadata": {},
   "outputs": [
    {
     "name": "stdout",
     "output_type": "stream",
     "text": [
      "The percentage of password has capital letter is: 9.52%\n"
     ]
    }
   ],
   "source": [
    "# check what percent password has capital letter\n",
    "\n",
    "pct_capletter = passwords[passwords['hasCapLetters']==True].shape[0] / float(total_rec) * 100\n",
    "print(\"The percentage of password has capital letter is: {:.2f}%\".format(pct_capletter))"
   ]
  },
  {
   "cell_type": "code",
   "execution_count": 24,
   "metadata": {},
   "outputs": [
    {
     "name": "stdout",
     "output_type": "stream",
     "text": [
      "The percentage of password has symbol is: 3.10%\n"
     ]
    }
   ],
   "source": [
    "# check what percent password has symbol\n",
    "\n",
    "pct_symbol = passwords[passwords['hasSymbols']==True].shape[0] / float(total_rec) * 100\n",
    "print(\"The percentage of password has symbol is: {:.2f}%\".format(pct_symbol))"
   ]
  },
  {
   "cell_type": "code",
   "execution_count": 25,
   "metadata": {},
   "outputs": [
    {
     "name": "stdout",
     "output_type": "stream",
     "text": [
      "The percentage of password has number only is: 23.23%\n"
     ]
    }
   ],
   "source": [
    "# check what percent password has number only\n",
    "\n",
    "pct_numonly = passwords[(passwords['hasLetters']==False) & (passwords['hasSymbols']==False)].shape[0] / float(total_rec) * 100\n",
    "print(\"The percentage of password has number only is: {:.2f}%\".format(pct_numonly))"
   ]
  },
  {
   "cell_type": "code",
   "execution_count": 26,
   "metadata": {},
   "outputs": [
    {
     "name": "stdout",
     "output_type": "stream",
     "text": [
      "The percentage of password has letter only is: 26.14%\n"
     ]
    }
   ],
   "source": [
    "# check what percent password has letter only\n",
    "\n",
    "pct_letonly = passwords[(passwords['hasNumbers']==False) & (passwords['hasSymbols']==False)].shape[0] / float(total_rec) * 100\n",
    "print(\"The percentage of password has letter only is: {:.2f}%\".format(pct_letonly))"
   ]
  },
  {
   "cell_type": "code",
   "execution_count": 27,
   "metadata": {},
   "outputs": [
    {
     "name": "stdout",
     "output_type": "stream",
     "text": [
      "The percentage of password has symbol only is: 0.02%\n"
     ]
    }
   ],
   "source": [
    "# check what percent password has symbol only\n",
    "\n",
    "pct_symonly = passwords[(passwords['hasNumbers']==False) & (passwords['hasLetters']==False)].shape[0] / float(total_rec) * 100\n",
    "print(\"The percentage of password has symbol only is: {:.2f}%\".format(pct_symonly))"
   ]
  },
  {
   "cell_type": "code",
   "execution_count": 28,
   "metadata": {},
   "outputs": [
    {
     "name": "stdout",
     "output_type": "stream",
     "text": [
      "The percentage of password has all three components is: 1.76% \n"
     ]
    }
   ],
   "source": [
    "pct_all = passwords[(passwords['hasLetters']==True) & (passwords['hasSymbols']==True)& (passwords['hasNumbers']==True)] \\\n",
    "          .shape[0] / float(total_rec) * 100\n",
    "print(\"The percentage of password has all three components is: {:.2f}% \".format(pct_all))"
   ]
  },
  {
   "cell_type": "code",
   "execution_count": 29,
   "metadata": {},
   "outputs": [
    {
     "data": {
      "image/png": "[encoded data removed]",
      "text/plain": [
       "<matplotlib.figure.Figure at 0x2bfa9036e48>"
      ]
     },
     "metadata": {},
     "output_type": "display_data"
    }
   ],
   "source": [
    "temp1 = passwords['hasNumbers'].value_counts(ascending=True, normalize=True)*100\n",
    "temp2 = passwords['hasLetters'].value_counts(ascending=True, normalize=True)*100\n",
    "temp3 = passwords['hasCapLetters'].value_counts(ascending=False, normalize=True)*100\n",
    "temp4 = passwords['hasSymbols'].value_counts(ascending=False, normalize=True)*100\n",
    "\n",
    "fig = plt.figure(figsize=(14,7))\n",
    "fig.suptitle('Composition of Password', y=1.05,fontsize=18, fontweight='bold')\n",
    "\n",
    "labels = ('No', 'Yes')\n",
    "colors = ['yellowgreen', 'skyblue']\n",
    "explode = (0, 0.1)\n",
    "\n",
    "ax1 = fig.add_subplot(241)\n",
    "ax1.set_title(\"Has Numbers\" , fontsize=14)\n",
    "plt.pie(temp1,explode=explode,autopct='%1.1f%%', colors=colors, labels = labels, shadow=True, startangle=15,\\\n",
    "        radius=.9)\n",
    "\n",
    "ax2 = fig.add_subplot(242, sharey=ax1)\n",
    "ax2.set_title(\"Has Letters\" , fontsize=14)\n",
    "plt.pie(temp2,explode=explode,autopct='%1.1f%%', colors=colors, labels = labels, shadow=True, startangle=15,\\\n",
    "        radius=.9)\n",
    "\n",
    "ax3 = fig.add_subplot(243, sharey=ax1)\n",
    "ax3.set_title(\"Has CapLetters\" , fontsize=14)\n",
    "plt.pie(temp3,explode=explode, autopct='%1.1f%%', colors=colors, labels = labels, shadow=True, startangle=15,\\\n",
    "        radius=.9)\n",
    "\n",
    "ax4 = fig.add_subplot(244, sharey=ax1)\n",
    "ax4.set_title(\"Has Symbols\" , fontsize=14)\n",
    "plt.pie(temp4,explode=explode, autopct='%1.1f%%', colors=colors, labels = labels, shadow=True, startangle=15,\\\n",
    "        radius=.9)\n",
    "\n",
    "ax5 = fig.add_subplot(245)\n",
    "ax5.set_title(\"Number Only\" , fontsize=14)\n",
    "plt.pie((pct_numonly, 100 - pct_numonly),autopct='%1.1f%%', explode=explode,colors=colors, labels = ('Yes','No'), shadow=True, \\\n",
    "        startangle=15, radius=.9)\n",
    "\n",
    "ax6 = fig.add_subplot(246, sharey=ax5)\n",
    "ax6.set_title(\"Letter Only\" , fontsize=14)\n",
    "plt.pie((pct_letonly, 100 - pct_letonly),explode=explode,autopct='%1.1f%%', colors=colors, labels = ('Yes','No'), shadow=True, \\\n",
    "        startangle=15, radius=.9)\n",
    "\n",
    "ax7 = fig.add_subplot(247, sharey=ax5)\n",
    "ax7.set_title(\"Symbol Only\" , fontsize=14)\n",
    "plt.pie((pct_symonly, 100 - pct_symonly),explode=explode, autopct='%1.1f%%', colors=colors, labels = ('Yes','No'), shadow=True,\\\n",
    "        startangle=15, radius=.9)\n",
    "\n",
    "ax8 = fig.add_subplot(248, sharey=ax5)\n",
    "ax8.set_title(\"All Three\" , fontsize=14)\n",
    "plt.pie((pct_all, 100 - pct_all),explode=explode, autopct='%1.1f%%', colors=colors, labels = ('Yes','No'), shadow=True,\\\n",
    "        startangle=15,radius=.9)\n",
    "\n",
    "plt.show()"
   ]
  },
  {
   "cell_type": "markdown",
   "metadata": {},
   "source": [
    "**NOTE**: From the above analysis, I know that less than 10% of passwords has capital letters and only about 3% of passwords has special characters (symbols). About half of the passwords consist of only one type of components and 1.7% percent of the password consist of all three components, suggesting that complexity of password is not so good. As you may know that a strong password usually requires at least one capital letter and at least one special characters. This may partitally explain why these passwords were hijacked."
   ]
  },
  {
   "cell_type": "markdown",
   "metadata": {
    "collapsed": true
   },
   "source": [
    "## 5.3. Analysis the detailed composition of each password\n",
    "\n",
    "To analyze the detailed composition of each password, I have created three functions which calculate the composition percentage of letters, numbers and symbols in each password. "
   ]
  },
  {
   "cell_type": "code",
   "execution_count": 30,
   "metadata": {},
   "outputs": [],
   "source": [
    "def pct_letter(x):\n",
    "    \n",
    "    l = float(len(str(x)))\n",
    "    p = 0\n",
    "    for char in str(x):\n",
    "        if re.match('[a-zA-Z]', char):\n",
    "            p += 1\n",
    "    return round(p / l * 100,2)   \n",
    "\n",
    "def pct_number(x):\n",
    "    \n",
    "    l = float(len(str(x)))\n",
    "    p = 0\n",
    "    for char in str(x):\n",
    "        if str(char).isdigit():\n",
    "            p += 1\n",
    "    return round(p / l * 100,2)  \n",
    "\n",
    "def pct_symbol(x):\n",
    "    sym = set('~!@#$%^&*(){}:.[]`;,\"=<>\\\\/_ ?+-|\\'')\n",
    "    l = float(len(str(x)))\n",
    "    p = 0\n",
    "    for char in str(x):\n",
    "        if char in sym:\n",
    "            p += 1\n",
    "    return round(p / l * 100,2)"
   ]
  },
  {
   "cell_type": "markdown",
   "metadata": {},
   "source": [
    "Add three more columns (pctLetters, pctSymbols, pctNumbers) to the dataframe. Each column contains the value of the percentage of corresponding components."
   ]
  },
  {
   "cell_type": "code",
   "execution_count": 31,
   "metadata": {},
   "outputs": [],
   "source": [
    "passwords['pctLetters'] = passwords.password.map(lambda x: pct_letter(x))\n",
    "passwords['pctSymbols'] = passwords.password.map(lambda x: pct_symbol(x))\n",
    "passwords['pctNumbers'] = passwords.password.map(lambda x: pct_number(x))"
   ]
  },
  {
   "cell_type": "markdown",
   "metadata": {},
   "source": [
    "Check how does the data look like "
   ]
  },
  {
   "cell_type": "code",
   "execution_count": 32,
   "metadata": {},
   "outputs": [
    {
     "data": {
      "text/html": [
       "<div>\n",
       "<style>\n",
       "    .dataframe thead tr:only-child th {\n",
       "        text-align: right;\n",
       "    }\n",
       "\n",
       "    .dataframe thead th {\n",
       "        text-align: left;\n",
       "    }\n",
       "\n",
       "    .dataframe tbody tr th {\n",
       "        vertical-align: top;\n",
       "    }\n",
       "</style>\n",
       "<table border=\"1\" class=\"dataframe\">\n",
       "  <thead>\n",
       "    <tr style=\"text-align: right;\">\n",
       "      <th></th>\n",
       "      <th>password</th>\n",
       "      <th>hasLetters</th>\n",
       "      <th>hasCapLetters</th>\n",
       "      <th>hasNumbers</th>\n",
       "      <th>hasSymbols</th>\n",
       "      <th>length</th>\n",
       "      <th>pctLetters</th>\n",
       "      <th>pctSymbols</th>\n",
       "      <th>pctNumbers</th>\n",
       "    </tr>\n",
       "  </thead>\n",
       "  <tbody>\n",
       "    <tr>\n",
       "      <th>0</th>\n",
       "      <td>`</td>\n",
       "      <td>False</td>\n",
       "      <td>False</td>\n",
       "      <td>False</td>\n",
       "      <td>True</td>\n",
       "      <td>1</td>\n",
       "      <td>0.0</td>\n",
       "      <td>100.0</td>\n",
       "      <td>0.0</td>\n",
       "    </tr>\n",
       "    <tr>\n",
       "      <th>1</th>\n",
       "      <td>``</td>\n",
       "      <td>False</td>\n",
       "      <td>False</td>\n",
       "      <td>False</td>\n",
       "      <td>True</td>\n",
       "      <td>2</td>\n",
       "      <td>0.0</td>\n",
       "      <td>100.0</td>\n",
       "      <td>0.0</td>\n",
       "    </tr>\n",
       "    <tr>\n",
       "      <th>2</th>\n",
       "      <td>````</td>\n",
       "      <td>False</td>\n",
       "      <td>False</td>\n",
       "      <td>False</td>\n",
       "      <td>True</td>\n",
       "      <td>4</td>\n",
       "      <td>0.0</td>\n",
       "      <td>100.0</td>\n",
       "      <td>0.0</td>\n",
       "    </tr>\n",
       "    <tr>\n",
       "      <th>3</th>\n",
       "      <td>`````</td>\n",
       "      <td>False</td>\n",
       "      <td>False</td>\n",
       "      <td>False</td>\n",
       "      <td>True</td>\n",
       "      <td>5</td>\n",
       "      <td>0.0</td>\n",
       "      <td>100.0</td>\n",
       "      <td>0.0</td>\n",
       "    </tr>\n",
       "    <tr>\n",
       "      <th>4</th>\n",
       "      <td>``````</td>\n",
       "      <td>False</td>\n",
       "      <td>False</td>\n",
       "      <td>False</td>\n",
       "      <td>True</td>\n",
       "      <td>6</td>\n",
       "      <td>0.0</td>\n",
       "      <td>100.0</td>\n",
       "      <td>0.0</td>\n",
       "    </tr>\n",
       "  </tbody>\n",
       "</table>\n",
       "</div>"
      ],
      "text/plain": [
       "  password  hasLetters  hasCapLetters  hasNumbers  hasSymbols  length  \\\n",
       "0        `       False          False       False        True       1   \n",
       "1       ``       False          False       False        True       2   \n",
       "2     ````       False          False       False        True       4   \n",
       "3    `````       False          False       False        True       5   \n",
       "4   ``````       False          False       False        True       6   \n",
       "\n",
       "   pctLetters  pctSymbols  pctNumbers  \n",
       "0         0.0       100.0         0.0  \n",
       "1         0.0       100.0         0.0  \n",
       "2         0.0       100.0         0.0  \n",
       "3         0.0       100.0         0.0  \n",
       "4         0.0       100.0         0.0  "
      ]
     },
     "execution_count": 32,
     "metadata": {},
     "output_type": "execute_result"
    }
   ],
   "source": [
    "passwords.head(5)"
   ]
  },
  {
   "cell_type": "code",
   "execution_count": 33,
   "metadata": {},
   "outputs": [],
   "source": [
    "# calculate the mean of percentage by length\n",
    "\n",
    "sym_mean = passwords['pctSymbols'].groupby(passwords['length']).mean()\n",
    "let_mean = passwords['pctLetters'].groupby(passwords['length']).mean()\n",
    "num_mean = passwords['pctNumbers'].groupby(passwords['length']).mean()\n",
    "\n",
    "len_unique = passwords['length'].unique()"
   ]
  },
  {
   "cell_type": "code",
   "execution_count": 34,
   "metadata": {},
   "outputs": [
    {
     "data": {
      "image/png": "[encoded data removed]",
      "text/plain": [
       "<matplotlib.figure.Figure at 0x2bfa9036860>"
      ]
     },
     "metadata": {},
     "output_type": "display_data"
    }
   ],
   "source": [
    "fig, ax = plt.subplots(1, figsize=(16,6))\n",
    "\n",
    "bar_width = .8\n",
    "\n",
    "bar_1 = [ i + 1 for i in range(len(len_unique))]\n",
    "\n",
    "tick_pos = [i + (bar_width/2) for i in bar_1]\n",
    "\n",
    "ax.bar(bar_1,num_mean, bar_width, color = 'skyblue', label='Numbers') # add error bar - yerr=num_std)\n",
    "ax.bar(bar_1,let_mean, bar_width, bottom=num_mean,  color = 'yellowgreen', label='Letters') \n",
    "ax.bar(bar_1,sym_mean, bar_width, bottom=[i+j for i,j in zip(num_mean,let_mean)], color = 'c', label='Symbols') \n",
    "\n",
    "# set the x ticks with names\n",
    "plt.xticks(tick_pos, len_unique)\n",
    "\n",
    "# Set the label and legends\n",
    "ax.set_ylabel(\"Total Average Percent\", fontsize = 16)\n",
    "ax.set_xlabel(\"Password Length\", fontsize = 16)\n",
    "plt.legend(loc='upper right', prop={'size':12})\n",
    "\n",
    "# Set a buffer around the edge\n",
    "plt.xlim([min(tick_pos)-bar_width, max(tick_pos)+bar_width])\n",
    "\n",
    "plt.show()"
   ]
  },
  {
   "cell_type": "markdown",
   "metadata": {},
   "source": [
    "**NOTE**: For this above figure, we can see that password either short or long has relative high percentage of symbol characters. The password with length ranging from 5 to 12 has very low percent of special symbol character. As we have see from previous analysis, the passwords with length 6 to 10 are dominate in this dataset. This result may partially explain why these passwords got hijacked."
   ]
  },
  {
   "cell_type": "code",
   "execution_count": null,
   "metadata": {
    "collapsed": true
   },
   "outputs": [],
   "source": []
  },
  {
   "cell_type": "markdown",
   "metadata": {},
   "source": [
    "# Step 6. Classification"
   ]
  },
  {
   "cell_type": "markdown",
   "metadata": {},
   "source": [
    "## 6.1. Calculate the score\n",
    "\n",
    "To mathmatically rate the password, the rules for calculating the score are applied with modifications according to the rules from [here](http://www.passwordmeter.com/):\n",
    "\n",
    "**Additions:**\n",
    "\n",
    "- Number of Characters: len * 4\n",
    "- Uppercase of Letters: n * 3\n",
    "- Lowercase of Letters: n * 3\n",
    "- Numbers: n * 2.5\n",
    "- Symbols: n * 4\n",
    "- Any combination of two: len\n",
    "- Any combination of three: 1.5 * len\n",
    "- All four combination: 2 * len\n",
    "\n",
    "**Deductions:**\n",
    "\n",
    "- Letters Only: - len\n",
    "- Numbers Only: - len\n",
    "- Symbols Only: - len\n",
    "- Repeat: - n"
   ]
  },
  {
   "cell_type": "code",
   "execution_count": 35,
   "metadata": {},
   "outputs": [],
   "source": [
    "def scores(string):\n",
    "    \n",
    "    import re\n",
    "    \n",
    "    string = str(string)\n",
    "    l = len(string)\n",
    "    score = 4 * l\n",
    "    \n",
    "    # check unique characters\n",
    "    uni_l = len(set(list(string)))\n",
    "    score = score - (l - uni_l)\n",
    "    \n",
    "    if all(re.match('[a-z]', char) for char in string):\n",
    "        score = score - l\n",
    "    if all(char.isdigit() for char in string):\n",
    "        score = score - l\n",
    "    if all((c in '~!@#$%^&*(){}:.[]`;,\"=<>\\\\/_ ?+-|\\'') for c in string):\n",
    "        score = score - l\n",
    "    if all(re.match('[A-Z]', char) for char in string):\n",
    "        score = score - l\n",
    " \n",
    "    a = any(re.match('[a-z]', char) for char in string)\n",
    "    b = any(char.isdigit() for char in string)\n",
    "    c = any((c in '~!@#$%^&*(){}:.[]`;,\"=<>\\\\/_ ?+-|\\'') for c in string)\n",
    "    d = any(re.match('[A-Z]', char) for char in string)\n",
    "\n",
    "    if (a and b) or (a and c) or (a and d) or (b and c) or (b and d) or (c and d):\n",
    "        score = score + l\n",
    "    elif (a and b and c) or (a and d and d) or (b and c and d):\n",
    "        score = score + 1.5 * l        \n",
    "    elif (a and b and c and d):\n",
    "        score = score + 2 * l   \n",
    "   \n",
    "    num_num = 0\n",
    "    num_let = 0\n",
    "    num_sym = 0\n",
    "    for char in string:\n",
    "        if char.isdigit():\n",
    "            num_num += 1\n",
    "        elif re.match('[a-zA-Z]', char):\n",
    "            num_let += 1\n",
    "        elif char in set('~!@#$%^&*(){}:.[]`;,\"=<>\\\\/_ ?+-|\\''):\n",
    "            num_sym += 1\n",
    "    score = score + num_let * 3 + num_num * 2.5 + num_sym * 4\n",
    "    return score"
   ]
  },
  {
   "cell_type": "code",
   "execution_count": 36,
   "metadata": {},
   "outputs": [
    {
     "data": {
      "text/html": [
       "<div>\n",
       "<style>\n",
       "    .dataframe thead tr:only-child th {\n",
       "        text-align: right;\n",
       "    }\n",
       "\n",
       "    .dataframe thead th {\n",
       "        text-align: left;\n",
       "    }\n",
       "\n",
       "    .dataframe tbody tr th {\n",
       "        vertical-align: top;\n",
       "    }\n",
       "</style>\n",
       "<table border=\"1\" class=\"dataframe\">\n",
       "  <thead>\n",
       "    <tr style=\"text-align: right;\">\n",
       "      <th></th>\n",
       "      <th>password</th>\n",
       "      <th>hasLetters</th>\n",
       "      <th>hasCapLetters</th>\n",
       "      <th>hasNumbers</th>\n",
       "      <th>hasSymbols</th>\n",
       "      <th>length</th>\n",
       "      <th>pctLetters</th>\n",
       "      <th>pctSymbols</th>\n",
       "      <th>pctNumbers</th>\n",
       "      <th>score</th>\n",
       "    </tr>\n",
       "  </thead>\n",
       "  <tbody>\n",
       "    <tr>\n",
       "      <th>0</th>\n",
       "      <td>`</td>\n",
       "      <td>False</td>\n",
       "      <td>False</td>\n",
       "      <td>False</td>\n",
       "      <td>True</td>\n",
       "      <td>1</td>\n",
       "      <td>0.0</td>\n",
       "      <td>100.0</td>\n",
       "      <td>0.0</td>\n",
       "      <td>7.0</td>\n",
       "    </tr>\n",
       "    <tr>\n",
       "      <th>1</th>\n",
       "      <td>``</td>\n",
       "      <td>False</td>\n",
       "      <td>False</td>\n",
       "      <td>False</td>\n",
       "      <td>True</td>\n",
       "      <td>2</td>\n",
       "      <td>0.0</td>\n",
       "      <td>100.0</td>\n",
       "      <td>0.0</td>\n",
       "      <td>13.0</td>\n",
       "    </tr>\n",
       "    <tr>\n",
       "      <th>2</th>\n",
       "      <td>````</td>\n",
       "      <td>False</td>\n",
       "      <td>False</td>\n",
       "      <td>False</td>\n",
       "      <td>True</td>\n",
       "      <td>4</td>\n",
       "      <td>0.0</td>\n",
       "      <td>100.0</td>\n",
       "      <td>0.0</td>\n",
       "      <td>25.0</td>\n",
       "    </tr>\n",
       "  </tbody>\n",
       "</table>\n",
       "</div>"
      ],
      "text/plain": [
       "  password  hasLetters  hasCapLetters  hasNumbers  hasSymbols  length  \\\n",
       "0        `       False          False       False        True       1   \n",
       "1       ``       False          False       False        True       2   \n",
       "2     ````       False          False       False        True       4   \n",
       "\n",
       "   pctLetters  pctSymbols  pctNumbers  score  \n",
       "0         0.0       100.0         0.0    7.0  \n",
       "1         0.0       100.0         0.0   13.0  \n",
       "2         0.0       100.0         0.0   25.0  "
      ]
     },
     "execution_count": 36,
     "metadata": {},
     "output_type": "execute_result"
    }
   ],
   "source": [
    "ps = passwords  #.sample(10000, random_state=100)  #passwords.drop(['label'], axis=1, inplace=True)\n",
    "ps['score'] = ps['password'].map(lambda x: scores(x))\n",
    "\n",
    "ps.head(3)"
   ]
  },
  {
   "cell_type": "markdown",
   "metadata": {},
   "source": [
    "## 6.2. Classification\n",
    "\n",
    "According to the calculated score, passwords were classifiered into five groups (very week, weak, good, strong and very strong)"
   ]
  },
  {
   "cell_type": "code",
   "execution_count": 37,
   "metadata": {},
   "outputs": [],
   "source": [
    "def classes(x):\n",
    "\n",
    "    if x < 40:\n",
    "        return 'Very Weak'\n",
    "    elif x >= 40 and x < 60:\n",
    "        return 'Weak'\n",
    "    elif x >= 60 and x < 80:\n",
    "        return 'Good'\n",
    "    elif x >= 80 and x < 90:\n",
    "        return 'Strong'\n",
    "    else:\n",
    "        return 'Very Strong'"
   ]
  },
  {
   "cell_type": "code",
   "execution_count": 38,
   "metadata": {},
   "outputs": [],
   "source": [
    "ps['label'] = ps['score'].map(lambda x: classes(x))"
   ]
  },
  {
   "cell_type": "code",
   "execution_count": 39,
   "metadata": {},
   "outputs": [
    {
     "data": {
      "text/html": [
       "<div>\n",
       "<style>\n",
       "    .dataframe thead tr:only-child th {\n",
       "        text-align: right;\n",
       "    }\n",
       "\n",
       "    .dataframe thead th {\n",
       "        text-align: left;\n",
       "    }\n",
       "\n",
       "    .dataframe tbody tr th {\n",
       "        vertical-align: top;\n",
       "    }\n",
       "</style>\n",
       "<table border=\"1\" class=\"dataframe\">\n",
       "  <thead>\n",
       "    <tr style=\"text-align: right;\">\n",
       "      <th></th>\n",
       "      <th>password</th>\n",
       "      <th>hasLetters</th>\n",
       "      <th>hasCapLetters</th>\n",
       "      <th>hasNumbers</th>\n",
       "      <th>hasSymbols</th>\n",
       "      <th>length</th>\n",
       "      <th>pctLetters</th>\n",
       "      <th>pctSymbols</th>\n",
       "      <th>pctNumbers</th>\n",
       "      <th>score</th>\n",
       "      <th>label</th>\n",
       "    </tr>\n",
       "  </thead>\n",
       "  <tbody>\n",
       "    <tr>\n",
       "      <th>179279</th>\n",
       "      <td>15817181218</td>\n",
       "      <td>False</td>\n",
       "      <td>False</td>\n",
       "      <td>True</td>\n",
       "      <td>False</td>\n",
       "      <td>11</td>\n",
       "      <td>0.00</td>\n",
       "      <td>0.0</td>\n",
       "      <td>100.00</td>\n",
       "      <td>54.5</td>\n",
       "      <td>Weak</td>\n",
       "    </tr>\n",
       "    <tr>\n",
       "      <th>1490668</th>\n",
       "      <td>mansop23</td>\n",
       "      <td>True</td>\n",
       "      <td>False</td>\n",
       "      <td>True</td>\n",
       "      <td>False</td>\n",
       "      <td>8</td>\n",
       "      <td>75.00</td>\n",
       "      <td>0.0</td>\n",
       "      <td>25.00</td>\n",
       "      <td>63.0</td>\n",
       "      <td>Good</td>\n",
       "    </tr>\n",
       "    <tr>\n",
       "      <th>788224</th>\n",
       "      <td>atd2010</td>\n",
       "      <td>True</td>\n",
       "      <td>False</td>\n",
       "      <td>True</td>\n",
       "      <td>False</td>\n",
       "      <td>7</td>\n",
       "      <td>42.86</td>\n",
       "      <td>0.0</td>\n",
       "      <td>57.14</td>\n",
       "      <td>53.0</td>\n",
       "      <td>Weak</td>\n",
       "    </tr>\n",
       "    <tr>\n",
       "      <th>1179321</th>\n",
       "      <td>H2uTV2aA</td>\n",
       "      <td>True</td>\n",
       "      <td>True</td>\n",
       "      <td>True</td>\n",
       "      <td>False</td>\n",
       "      <td>8</td>\n",
       "      <td>75.00</td>\n",
       "      <td>0.0</td>\n",
       "      <td>25.00</td>\n",
       "      <td>62.0</td>\n",
       "      <td>Good</td>\n",
       "    </tr>\n",
       "    <tr>\n",
       "      <th>1248057</th>\n",
       "      <td>ilm607909760</td>\n",
       "      <td>True</td>\n",
       "      <td>False</td>\n",
       "      <td>True</td>\n",
       "      <td>False</td>\n",
       "      <td>12</td>\n",
       "      <td>25.00</td>\n",
       "      <td>0.0</td>\n",
       "      <td>75.00</td>\n",
       "      <td>86.5</td>\n",
       "      <td>Strong</td>\n",
       "    </tr>\n",
       "    <tr>\n",
       "      <th>930253</th>\n",
       "      <td>ckchew168</td>\n",
       "      <td>True</td>\n",
       "      <td>False</td>\n",
       "      <td>True</td>\n",
       "      <td>False</td>\n",
       "      <td>9</td>\n",
       "      <td>66.67</td>\n",
       "      <td>0.0</td>\n",
       "      <td>33.33</td>\n",
       "      <td>69.5</td>\n",
       "      <td>Good</td>\n",
       "    </tr>\n",
       "    <tr>\n",
       "      <th>50171</th>\n",
       "      <td>0504123</td>\n",
       "      <td>False</td>\n",
       "      <td>False</td>\n",
       "      <td>True</td>\n",
       "      <td>False</td>\n",
       "      <td>7</td>\n",
       "      <td>0.00</td>\n",
       "      <td>0.0</td>\n",
       "      <td>100.00</td>\n",
       "      <td>37.5</td>\n",
       "      <td>Very Weak</td>\n",
       "    </tr>\n",
       "    <tr>\n",
       "      <th>1906299</th>\n",
       "      <td>Taz1991</td>\n",
       "      <td>True</td>\n",
       "      <td>True</td>\n",
       "      <td>True</td>\n",
       "      <td>False</td>\n",
       "      <td>7</td>\n",
       "      <td>42.86</td>\n",
       "      <td>0.0</td>\n",
       "      <td>57.14</td>\n",
       "      <td>52.0</td>\n",
       "      <td>Weak</td>\n",
       "    </tr>\n",
       "    <tr>\n",
       "      <th>397411</th>\n",
       "      <td>412616</td>\n",
       "      <td>False</td>\n",
       "      <td>False</td>\n",
       "      <td>True</td>\n",
       "      <td>False</td>\n",
       "      <td>6</td>\n",
       "      <td>0.00</td>\n",
       "      <td>0.0</td>\n",
       "      <td>100.00</td>\n",
       "      <td>31.0</td>\n",
       "      <td>Very Weak</td>\n",
       "    </tr>\n",
       "    <tr>\n",
       "      <th>1366758</th>\n",
       "      <td>klmn578</td>\n",
       "      <td>True</td>\n",
       "      <td>False</td>\n",
       "      <td>True</td>\n",
       "      <td>False</td>\n",
       "      <td>7</td>\n",
       "      <td>57.14</td>\n",
       "      <td>0.0</td>\n",
       "      <td>42.86</td>\n",
       "      <td>54.5</td>\n",
       "      <td>Weak</td>\n",
       "    </tr>\n",
       "  </tbody>\n",
       "</table>\n",
       "</div>"
      ],
      "text/plain": [
       "             password  hasLetters  hasCapLetters  hasNumbers  hasSymbols  \\\n",
       "179279    15817181218       False          False        True       False   \n",
       "1490668      mansop23        True          False        True       False   \n",
       "788224        atd2010        True          False        True       False   \n",
       "1179321      H2uTV2aA        True           True        True       False   \n",
       "1248057  ilm607909760        True          False        True       False   \n",
       "930253      ckchew168        True          False        True       False   \n",
       "50171         0504123       False          False        True       False   \n",
       "1906299       Taz1991        True           True        True       False   \n",
       "397411         412616       False          False        True       False   \n",
       "1366758       klmn578        True          False        True       False   \n",
       "\n",
       "         length  pctLetters  pctSymbols  pctNumbers  score      label  \n",
       "179279       11        0.00         0.0      100.00   54.5       Weak  \n",
       "1490668       8       75.00         0.0       25.00   63.0       Good  \n",
       "788224        7       42.86         0.0       57.14   53.0       Weak  \n",
       "1179321       8       75.00         0.0       25.00   62.0       Good  \n",
       "1248057      12       25.00         0.0       75.00   86.5     Strong  \n",
       "930253        9       66.67         0.0       33.33   69.5       Good  \n",
       "50171         7        0.00         0.0      100.00   37.5  Very Weak  \n",
       "1906299       7       42.86         0.0       57.14   52.0       Weak  \n",
       "397411        6        0.00         0.0      100.00   31.0  Very Weak  \n",
       "1366758       7       57.14         0.0       42.86   54.5       Weak  "
      ]
     },
     "execution_count": 39,
     "metadata": {},
     "output_type": "execute_result"
    }
   ],
   "source": [
    "# sampling the data after adding the label\n",
    "ps.sample(10,  random_state=12)"
   ]
  },
  {
   "cell_type": "markdown",
   "metadata": {},
   "source": [
    "### Compare the above sample labels with labels from http://www.passwordmeter.com/ (meter label)\n",
    "\n",
    "Table 1. Comparison the classifications\n",
    "\n",
    "| Passwords          | Label          | meter label       |\n",
    "|--------------------|----------------|-------------------|\n",
    "|patmehul            | Weak           | Very Weak         |\n",
    "|royi3750            | Good           | Good              |\n",
    "|41davey99           | Good           | Good              |\n",
    "|bear2000            | Good           | Good              |\n",
    "|1964733112012857    | Very Strong    | Good              |\n",
    "|@1234zzzz@          | Good           | Strong            |\n",
    "|8951146@            | Good           | Strong            |\n",
    "|fonanka             | Weak           | Very Weak         |\n",
    "|nel257              | Weak           | Weak              |\n",
    "|nouvelledonne       | Good           | Weak              | \n",
    "\n"
   ]
  },
  {
   "cell_type": "markdown",
   "metadata": {},
   "source": [
    "## 6.3. Plot the data according to label"
   ]
  },
  {
   "cell_type": "code",
   "execution_count": 40,
   "metadata": {},
   "outputs": [
    {
     "data": {
      "image/png": "[encoded data removed]",
      "text/plain": [
       "<matplotlib.figure.Figure at 0x2bfa69f2400>"
      ]
     },
     "metadata": {},
     "output_type": "display_data"
    }
   ],
   "source": [
    "dt = ps['label'].value_counts()\n",
    "\n",
    "fig = plt.figure(figsize=(10,5))\n",
    "dt.plot(kind='bar')\n",
    "plt.title('Summary of Classification', fontsize=18)\n",
    "plt.ylabel('Frequency', fontsize=14)\n",
    "plt.yticks(fontsize=12)\n",
    "plt.xticks(rotation=45, fontsize=14)\n",
    "plt.show()"
   ]
  },
  {
   "cell_type": "markdown",
   "metadata": {
    "collapsed": true
   },
   "source": [
    "**NOTE**: To mathmatically evaluate the password, I have borrowed the concept from 'http://www.passwordmeter.com/' with modification. It is worth to note that the rules I adapted is quietly arbituary and more complicated rules were modified. Therefore, variations are expected between labels from my algorithm and from passwordmeter website. From the table 1, we can see there are 6 out 10 random sampled labels are matched. Nevertheless, the majority of passwords are categorized into weak or very weak groups and less than 10 percent of the passwords is categorized into strong or very strong groups. "
   ]
  },
  {
   "cell_type": "markdown",
   "metadata": {},
   "source": [
    "# Summary\n",
    "\n",
    "I have thoroughly analyzed the passwords dataset. From my analysis, I have found that the majority of the passwords did not follow secure password rules such as having diverse combination of number, letter, capital letter as well as symbols. In particular, passwords with length ranging from 6 to 10 which represent the majority of the dataset are lack of the diversity. The lack of diversity and complexity at least partially explains why these passwords got hijacked and may not represent the real world situation. \n",
    "\n",
    "By partially applying the concept from passwordmeter.com, I was able to classified the passwords into five categories which are very weak, weak, good, strong as well as very strong. As we expected, variations exist between labels from my simple algorithm and from passwordmeter website. It is worth to note that the simple algorithm positively weight diversity and negatively weight repeat and simplicity. Nevertheless, the majority of the passwords are categorized into weak or very weak groups with the simple algorithm, suggesting a secure password should be diversified with combination of letter, number as well as special characters.  "
   ]
  },
  {
   "cell_type": "code",
   "execution_count": 41,
   "metadata": {},
   "outputs": [
    {
     "data": {
      "text/html": [
       "<script>\n",
       "code_show=true; \n",
       "function code_toggle() {\n",
       " if (code_show){\n",
       " $('div.input').hide();\n",
       " } else {\n",
       " $('div.input').show();\n",
       " }\n",
       " code_show = !code_show\n",
       "} \n",
       "$( document ).ready(code_toggle);\n",
       "</script>\n",
       "<form action=\"javascript:code_toggle()\"><input type=\"submit\" value=\"Click here to toggle on/off the raw code.\"></form>"
      ],
      "text/plain": [
       "<IPython.core.display.HTML object>"
      ]
     },
     "execution_count": 41,
     "metadata": {},
     "output_type": "execute_result"
    }
   ],
   "source": [
    "from IPython.display import HTML \n",
    "\n",
    "HTML('''<script>\n",
    "code_show=true; \n",
    "function code_toggle() {\n",
    " if (code_show){\n",
    " $('div.input').hide();\n",
    " } else {\n",
    " $('div.input').show();\n",
    " }\n",
    " code_show = !code_show\n",
    "} \n",
    "$( document ).ready(code_toggle);\n",
    "</script>\n",
    "<form action=\"javascript:code_toggle()\"><input type=\"submit\" value=\"Click here to toggle on/off the raw code.\"></form>''')"
   ]
  },
  {
   "cell_type": "markdown",
   "metadata": {
    "collapsed": true
   },
   "source": [
    "The above toggle code was from [here](http://stackoverflow.com/questions/27934885/how-to-hide-code-from-cells-in-ipython-notebook-visualized-with-nbviewer)"
   ]
  },
  {
   "cell_type": "code",
   "execution_count": null,
   "metadata": {
    "collapsed": true
   },
   "outputs": [],
   "source": []
  }
 ],
 "metadata": {
  "kernelspec": {
   "display_name": "Python 3",
   "language": "python",
   "name": "python3"
  },
  "language_info": {
   "codemirror_mode": {
    "name": "ipython",
    "version": 3
   },
   "file_extension": ".py",
   "mimetype": "text/x-python",
   "name": "python",
   "nbconvert_exporter": "python",
   "pygments_lexer": "ipython3",
   "version": "3.5.3"
  }
 },
 "nbformat": 4,
 "nbformat_minor": 1
}
